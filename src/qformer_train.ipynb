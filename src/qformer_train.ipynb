{
 "cells": [
  {
   "cell_type": "code",
   "execution_count": 1,
   "metadata": {},
   "outputs": [],
   "source": [
    "import random\n",
    "import torch\n",
    "import pandas as pd\n",
    "import numpy as np\n",
    "import torch.optim as optim\n",
    "import torch.nn.functional as F\n",
    "\n",
    "from einops import reduce\n",
    "from tqdm import tqdm\n",
    "from PIL import Image\n",
    "from os.path import join as pjoin\n",
    "\n",
    "from transformers import InstructBlipProcessor\n",
    "from pytorch_metric_learning import distances, losses, miners, reducers, testers\n",
    "from pytorch_metric_learning.utils.accuracy_calculator import AccuracyCalculator\n",
    "\n",
    "from data_utils import mkdir_p, del_folder, read_json, write_json, read_text\n",
    "from dataset import CUB_200_2011\n",
    "from instruct_blip import InstructBlipForImageRetrieval\n",
    "\n",
    "from torch.utils.tensorboard import SummaryWriter\n",
    "writer = SummaryWriter()"
   ]
  },
  {
   "cell_type": "code",
   "execution_count": 2,
   "metadata": {},
   "outputs": [
    {
     "name": "stdout",
     "output_type": "stream",
     "text": [
      "Cuda device 3 | NVIDIA GeForce RTX 3090 | 0.0/0.0GB\n"
     ]
    }
   ],
   "source": [
    "\n",
    "device_id = 3\n",
    "torch.cuda.set_device(torch.device(f'cuda:{device_id}' if torch.cuda.is_available() else 'cpu'))\n",
    "print ('Cuda device %s | %s | %s/%sGB' % (torch.cuda.current_device(), \n",
    "                                          torch.cuda.get_device_name(device_id),\n",
    "                                          round(torch.cuda.memory_allocated(device_id)/1024**3,1),\n",
    "                                          round(torch.cuda.memory_reserved(device_id)/1024**3,1)))\n",
    "\n",
    "device = \"cuda:\"+str(device_id) if torch.cuda.is_available() else \"cpu\"\n",
    "\n",
    "random.seed(12345)\n",
    "np.random.seed(12345)\n",
    "torch.manual_seed(12345)\n",
    "torch.cuda.manual_seed_all(12345)"
   ]
  },
  {
   "cell_type": "code",
   "execution_count": 3,
   "metadata": {},
   "outputs": [],
   "source": [
    "blip_processor_file = \"/home/jhkim980112/workspace/code/CV_project/processors\"\n",
    "blip_model_file = \"/home/jhkim980112/workspace/code/CV_project/models\"\n",
    "\n",
    "processor = InstructBlipProcessor.from_pretrained(blip_processor_file)\n",
    "instruct_blip = InstructBlipForImageRetrieval.from_pretrained(blip_model_file)\n",
    "instruct_blip_image_encoder = instruct_blip.vision_model\n"
   ]
  },
  {
   "cell_type": "code",
   "execution_count": 4,
   "metadata": {},
   "outputs": [
    {
     "name": "stdout",
     "output_type": "stream",
     "text": [
      "# of the vision encoder's networks : 474\n"
     ]
    }
   ],
   "source": [
    "cnt=0\n",
    "for network_name, parameter in instruct_blip.named_parameters():\n",
    "    if \"vision_model\" in network_name:\n",
    "        cnt += 1\n",
    "        parameter.requires_grad = False\n",
    "    else:\n",
    "        parameter.requires_grad = True\n",
    "print(f\"# of the vision encoder's networks : {cnt}\")"
   ]
  },
  {
   "cell_type": "code",
   "execution_count": 5,
   "metadata": {},
   "outputs": [],
   "source": [
    "#for network_name, parameter in instruct_blip.named_parameters():\n",
    "    #print(network_name, parameter)"
   ]
  },
  {
   "cell_type": "code",
   "execution_count": 6,
   "metadata": {},
   "outputs": [],
   "source": [
    "image_path = \"/home/jhkim980112/workspace/dataset/CUB_200_2011/CUB_200_2011/images\"\n",
    "train_data_path = \"/home/jhkim980112/workspace/dataset/CUB_200_2011/annotations/train.json\"\n",
    "valid_data_path = \"/home/jhkim980112/workspace/dataset/CUB_200_2011/annotations/val.json\"\n",
    "test_data_path = \"/home/jhkim980112/workspace/dataset/CUB_200_2011/annotations/train.json\"\n",
    "attribute_path = \"/home/jhkim980112/workspace/code/CV_project/fire/playground/attribute_sample.txt\"\n",
    "\n",
    "cub_train_data = CUB_200_2011(processor=processor, \n",
    "                              vision_dir=image_path, \n",
    "                              data_path=train_data_path,\n",
    "                              attributes_path=attribute_path)\n",
    "\n",
    "cub_valid_data = CUB_200_2011(processor=processor, \n",
    "                              vision_dir=image_path, \n",
    "                              data_path=valid_data_path,\n",
    "                              attributes_path=attribute_path)\n",
    "\n",
    "cub_test_data = CUB_200_2011(processor=processor, \n",
    "                              vision_dir=image_path, \n",
    "                              data_path=test_data_path,\n",
    "                              attributes_path=attribute_path)"
   ]
  },
  {
   "cell_type": "code",
   "execution_count": 7,
   "metadata": {},
   "outputs": [
    {
     "data": {
      "text/plain": [
       "[\"What is the shape, color, and length of a bird's beak?\",\n",
       " \"What are the patterns and colors of the bird's belly?\",\n",
       " \"What is the color of the upper parts, the under parts and the primary color of the bird's body?\"]"
      ]
     },
     "execution_count": 7,
     "metadata": {},
     "output_type": "execute_result"
    }
   ],
   "source": [
    "cub_train_data.attributes"
   ]
  },
  {
   "cell_type": "code",
   "execution_count": 12,
   "metadata": {},
   "outputs": [],
   "source": [
    "num_epochs = 10\n",
    "batch_size = 32 # Model& Data Load 시, 약 23,032MiB 소모 (3090 기준 배치사이즈 32가 적당해보임)\n",
    "num_attributes = len(cub_train_data.attributes)\n",
    "\n",
    "optimizer = optim.Adam(instruct_blip.parameters(), lr=0.001)\n",
    "distance = distances.CosineSimilarity()\n",
    "reducer = reducers.ThresholdReducer(low=0)\n",
    "loss_func = losses.TripletMarginLoss(margin=0.3, distance=distance, reducer=reducer)\n",
    "mining_func = miners.TripletMarginMiner(margin=0.2, distance=distance)\n",
    "#mining_func = miners.TripletMarginMiner(margin=0.9, type_of_triplets=\"all\")\n",
    "\n",
    "#accuracy_calculator = AccuracyCalculator(include=(\"precision_at_1\",), k=1)"
   ]
  },
  {
   "cell_type": "code",
   "execution_count": 10,
   "metadata": {},
   "outputs": [],
   "source": [
    "train_loader = torch.utils.data.DataLoader(\n",
    "    cub_train_data, batch_size=batch_size, shuffle=True\n",
    ")"
   ]
  },
  {
   "cell_type": "code",
   "execution_count": 13,
   "metadata": {},
   "outputs": [],
   "source": [
    "def train_qformer(instruct_blip, loss_func, mining_func, device, train_loader, optimizer, epoch, writer):\n",
    "    instruct_blip.train()\n",
    "    num_examples_seen = 0\n",
    "    \n",
    "    for batch_idx, batch in enumerate(train_loader):\n",
    "        optimizer.zero_grad()\n",
    "        inbatch_size = batch.label.shape[0]\n",
    "        \n",
    "        #labels = batch.label.view(inbatch_size*num_attributes, )\n",
    "        labels = batch.label[:,0]\n",
    "        pixel_values = batch.pixel_values[:, 0, :, :].squeeze().to(device)\n",
    "        image_encoder_output = instruct_blip.vision_model(pixel_values=pixel_values, \n",
    "                                            output_attentions=True, \n",
    "                                            output_hidden_states=True, \n",
    "                                            return_dict=True)\n",
    "        \n",
    "        instructed_embeddings= []\n",
    "        for attr in range(num_attributes):\n",
    "            qformer_input_ids = batch.qformer_input_ids[:, attr, :].squeeze().to(device)\n",
    "            qformer_attention_mask = batch.qformer_attention_mask[:, attr, :].squeeze().to(device)\n",
    "            \n",
    "            q_former_output = instruct_blip(image_embeds=image_encoder_output[0].to(device),\n",
    "                                            qformer_input_ids=qformer_input_ids, \n",
    "                                            qformer_attention_mask=qformer_attention_mask).qformer_outputs  \n",
    "            instructed_embeddings.append(q_former_output.pooler_output)\n",
    "\n",
    "        instructed_embeddings = reduce(torch.stack(instructed_embeddings), 'n b c -> b c', 'mean')\n",
    "        #print(instructed_embeddings.size())\n",
    "            \n",
    "            # (batch_size, 768)*3 -> (batch_size, 768) average pooling\n",
    "            #instructed_embeddings = torch.stack([q_former_output.pooler_output], dim=0)\n",
    "            #instructed_embeddings = torch.mean(instructed_embeddings, dim=0)\n",
    "            # print(instructed_embeddings.shape)\n",
    "                              \n",
    "        #print(instructed_embeddings.shape)\n",
    "        hard_pairs = mining_func(instructed_embeddings, labels)\n",
    "        #print(\"hard_pairs\", hard_pairs)\n",
    "\n",
    "        loss = loss_func(instructed_embeddings, labels, hard_pairs)\n",
    "        loss.backward()\n",
    "        optimizer.step()\n",
    "        \n",
    "        if (batch_idx+1) % 100 == 0:\n",
    "            print(\"Epoch {} Step {}: Loss = {}, Number of mined triplets = {}\".format(\n",
    "                epoch, batch_idx+1, loss, mining_func.num_triplets))\n",
    "            \n",
    "        num_examples_seen += inbatch_size\n",
    "        writer.add_scalar(\"train/batch_loss\", loss, batch_idx+1)\n",
    "        writer.add_scalar(\"train/avg_loss\", loss/(batch_idx+1), batch_idx)\n"
   ]
  },
  {
   "cell_type": "code",
   "execution_count": 14,
   "metadata": {},
   "outputs": [
    {
     "name": "stdout",
     "output_type": "stream",
     "text": [
      "Epoch 1 Step 100: Loss = 0.2988765835762024, Number of mined triplets = 180\n"
     ]
    },
    {
     "ename": "TypeError",
     "evalue": "can only concatenate str (not \"int\") to str",
     "output_type": "error",
     "traceback": [
      "\u001b[0;31m---------------------------------------------------------------------------\u001b[0m",
      "\u001b[0;31mTypeError\u001b[0m                                 Traceback (most recent call last)",
      "\u001b[1;32m/home/jhkim980112/workspace/code/CV_project/fire/src/qformer_train.ipynb 셀 11\u001b[0m line \u001b[0;36m5\n\u001b[1;32m      <a href='vscode-notebook-cell://ssh-remote%2Bnlpserver1/home/jhkim980112/workspace/code/CV_project/fire/src/qformer_train.ipynb#X62sdnNjb2RlLXJlbW90ZQ%3D%3D?line=2'>3</a>\u001b[0m \u001b[39mfor\u001b[39;00m epoch \u001b[39min\u001b[39;00m \u001b[39mrange\u001b[39m(\u001b[39m1\u001b[39m, num_epochs \u001b[39m+\u001b[39m \u001b[39m1\u001b[39m):\n\u001b[1;32m      <a href='vscode-notebook-cell://ssh-remote%2Bnlpserver1/home/jhkim980112/workspace/code/CV_project/fire/src/qformer_train.ipynb#X62sdnNjb2RlLXJlbW90ZQ%3D%3D?line=3'>4</a>\u001b[0m     train_qformer(instruct_blip, loss_func, mining_func, device, train_loader, optimizer, epoch, writer)\n\u001b[0;32m----> <a href='vscode-notebook-cell://ssh-remote%2Bnlpserver1/home/jhkim980112/workspace/code/CV_project/fire/src/qformer_train.ipynb#X62sdnNjb2RlLXJlbW90ZQ%3D%3D?line=4'>5</a>\u001b[0m     checkpoint \u001b[39m=\u001b[39m \u001b[39m\"\u001b[39;49m\u001b[39m/home/jhkim980112/workspace/code/CV_project/models/instruct_blip_\u001b[39;49m\u001b[39m\"\u001b[39;49m \u001b[39m+\u001b[39;49m epoch \u001b[39m+\u001b[39m \u001b[39m\"\u001b[39m\u001b[39m.pt\u001b[39m\u001b[39m\"\u001b[39m\n\u001b[1;32m      <a href='vscode-notebook-cell://ssh-remote%2Bnlpserver1/home/jhkim980112/workspace/code/CV_project/fire/src/qformer_train.ipynb#X62sdnNjb2RlLXJlbW90ZQ%3D%3D?line=5'>6</a>\u001b[0m     torch\u001b[39m.\u001b[39msave(instruct_blip, checkpoint)\n\u001b[1;32m      <a href='vscode-notebook-cell://ssh-remote%2Bnlpserver1/home/jhkim980112/workspace/code/CV_project/fire/src/qformer_train.ipynb#X62sdnNjb2RlLXJlbW90ZQ%3D%3D?line=7'>8</a>\u001b[0m     \u001b[39m#test(dataset1, dataset2, model, accuracy_calculator)\u001b[39;00m\n",
      "\u001b[0;31mTypeError\u001b[0m: can only concatenate str (not \"int\") to str"
     ]
    }
   ],
   "source": [
    "instruct_blip.to(device) # Model Load 시, GPU VRAM 약 4,916MiB 소모\n",
    "\n",
    "for epoch in range(1, num_epochs + 1):\n",
    "    train_qformer(instruct_blip, loss_func, mining_func, device, train_loader, optimizer, epoch, writer)\n",
    "    checkpoint = \"/home/jhkim980112/workspace/code/CV_project/models/instruct_blip_\" + str(epoch) + \".pt\"\n",
    "    torch.save(instruct_blip, checkpoint)\n",
    "\n",
    "    #test(dataset1, dataset2, model, accuracy_calculator)"
   ]
  },
  {
   "cell_type": "code",
   "execution_count": null,
   "metadata": {},
   "outputs": [],
   "source": []
  }
 ],
 "metadata": {
  "kernelspec": {
   "display_name": "SCSTORY",
   "language": "python",
   "name": "python3"
  },
  "language_info": {
   "codemirror_mode": {
    "name": "ipython",
    "version": 3
   },
   "file_extension": ".py",
   "mimetype": "text/x-python",
   "name": "python",
   "nbconvert_exporter": "python",
   "pygments_lexer": "ipython3",
   "version": "3.9.18"
  }
 },
 "nbformat": 4,
 "nbformat_minor": 2
}
