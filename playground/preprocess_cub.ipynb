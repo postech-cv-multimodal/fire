{
 "cells": [
  {
   "cell_type": "code",
   "execution_count": 1,
   "metadata": {},
   "outputs": [],
   "source": [
    "import os\n",
    "import re\n",
    "import json\n",
    "import errno\n",
    "import pandas as pd\n",
    "\n",
    "from shutil import rmtree\n",
    "\n",
    "from tqdm import tqdm\n",
    "from glob import iglob\n",
    "from ast import literal_eval\n",
    "from os.path import join as pjoin"
   ]
  },
  {
   "cell_type": "code",
   "execution_count": 2,
   "metadata": {},
   "outputs": [],
   "source": [
    "SRC_DIR = \"/home/kimsubin/cv_project/\"\n",
    "\n",
    "DATA_DIR = \"/mnt/hdd/kimsubin/cv_project/\" \n",
    "CUB_DATA_DIR = pjoin(DATA_DIR, \"CUB_200_2011\")\n",
    "\n",
    "CUB_IMAGE_DIR = pjoin(CUB_DATA_DIR, \"images\")\n",
    "CUB_ATTR_DIR = pjoin(CUB_DATA_DIR, \"attributes\")\n",
    "CUB_PART_DIR = pjoin(CUB_DATA_DIR, \"parts\")"
   ]
  },
  {
   "cell_type": "code",
   "execution_count": 3,
   "metadata": {},
   "outputs": [],
   "source": [
    "def mkdir_p(path):\n",
    "    try:\n",
    "        os.makedirs(path)\n",
    "    except OSError as exc:\n",
    "        if exc.errno == errno.EEXIST and os.path.isdir(path):\n",
    "            pass\n",
    "        else:\n",
    "            raise\n",
    "def del_folder(path):\n",
    "    try:\n",
    "        rmtree(path)\n",
    "    except:\n",
    "        pass\n",
    "\n",
    "def read_json(json_path):\n",
    "    with open(json_path, 'r') as f:\n",
    "        return json.load(f)\n",
    "\n",
    "def write_json(save_path, json_obj):\n",
    "    with open(save_path, 'w', encoding='utf-8') as make_file:\n",
    "        json.dump(json_obj, make_file, indent=\"\\t\")\n",
    "    return"
   ]
  },
  {
   "cell_type": "code",
   "execution_count": 4,
   "metadata": {},
   "outputs": [],
   "source": [
    "def read_text(text_path):\n",
    "    with open(text_path, 'r') as f:\n",
    "        lines = f.readlines()\n",
    "    return list(map(lambda x: x.strip(), lines))"
   ]
  },
  {
   "cell_type": "code",
   "execution_count": 5,
   "metadata": {},
   "outputs": [
    {
     "data": {
      "text/plain": [
       "{1: 'back',\n",
       " 2: 'beak',\n",
       " 3: 'belly',\n",
       " 4: 'breast',\n",
       " 5: 'crown',\n",
       " 6: 'forehead',\n",
       " 7: 'left eye',\n",
       " 8: 'left leg',\n",
       " 9: 'left wing',\n",
       " 10: 'nape',\n",
       " 11: 'right eye',\n",
       " 12: 'right leg',\n",
       " 13: 'right wing',\n",
       " 14: 'tail',\n",
       " 15: 'throat'}"
      ]
     },
     "execution_count": 5,
     "metadata": {},
     "output_type": "execute_result"
    }
   ],
   "source": [
    "parts_lines = read_text(pjoin(CUB_PART_DIR, \"parts.txt\"))\n",
    "parts_map = {int(p.split()[0]): ' '.join(p.split()[1:]) for p in parts_lines}\n",
    "\n",
    "parts_map"
   ]
  },
  {
   "cell_type": "code",
   "execution_count": 6,
   "metadata": {},
   "outputs": [],
   "source": [
    "image_path_df = pd.read_csv(pjoin(CUB_DATA_DIR, \"images.txt\"), sep=\" \", \\\n",
    "    names=['id', 'path'])\n",
    "image_split_df = pd.read_csv(pjoin(CUB_DATA_DIR, \"train_test_split.txt\"), sep=\" \", \\\n",
    "    names=['id', 'split'])"
   ]
  },
  {
   "cell_type": "code",
   "execution_count": 8,
   "metadata": {},
   "outputs": [
    {
     "data": {
      "text/html": [
       "<div>\n",
       "<style scoped>\n",
       "    .dataframe tbody tr th:only-of-type {\n",
       "        vertical-align: middle;\n",
       "    }\n",
       "\n",
       "    .dataframe tbody tr th {\n",
       "        vertical-align: top;\n",
       "    }\n",
       "\n",
       "    .dataframe thead th {\n",
       "        text-align: right;\n",
       "    }\n",
       "</style>\n",
       "<table border=\"1\" class=\"dataframe\">\n",
       "  <thead>\n",
       "    <tr style=\"text-align: right;\">\n",
       "      <th></th>\n",
       "      <th>id</th>\n",
       "      <th>path</th>\n",
       "      <th>split</th>\n",
       "    </tr>\n",
       "  </thead>\n",
       "  <tbody>\n",
       "    <tr>\n",
       "      <th>0</th>\n",
       "      <td>1</td>\n",
       "      <td>001.Black_footed_Albatross/Black_Footed_Albatr...</td>\n",
       "      <td>0</td>\n",
       "    </tr>\n",
       "    <tr>\n",
       "      <th>1</th>\n",
       "      <td>2</td>\n",
       "      <td>001.Black_footed_Albatross/Black_Footed_Albatr...</td>\n",
       "      <td>1</td>\n",
       "    </tr>\n",
       "    <tr>\n",
       "      <th>2</th>\n",
       "      <td>3</td>\n",
       "      <td>001.Black_footed_Albatross/Black_Footed_Albatr...</td>\n",
       "      <td>0</td>\n",
       "    </tr>\n",
       "    <tr>\n",
       "      <th>3</th>\n",
       "      <td>4</td>\n",
       "      <td>001.Black_footed_Albatross/Black_Footed_Albatr...</td>\n",
       "      <td>1</td>\n",
       "    </tr>\n",
       "    <tr>\n",
       "      <th>4</th>\n",
       "      <td>5</td>\n",
       "      <td>001.Black_footed_Albatross/Black_Footed_Albatr...</td>\n",
       "      <td>1</td>\n",
       "    </tr>\n",
       "    <tr>\n",
       "      <th>...</th>\n",
       "      <td>...</td>\n",
       "      <td>...</td>\n",
       "      <td>...</td>\n",
       "    </tr>\n",
       "    <tr>\n",
       "      <th>11783</th>\n",
       "      <td>11784</td>\n",
       "      <td>200.Common_Yellowthroat/Common_Yellowthroat_00...</td>\n",
       "      <td>1</td>\n",
       "    </tr>\n",
       "    <tr>\n",
       "      <th>11784</th>\n",
       "      <td>11785</td>\n",
       "      <td>200.Common_Yellowthroat/Common_Yellowthroat_00...</td>\n",
       "      <td>0</td>\n",
       "    </tr>\n",
       "    <tr>\n",
       "      <th>11785</th>\n",
       "      <td>11786</td>\n",
       "      <td>200.Common_Yellowthroat/Common_Yellowthroat_00...</td>\n",
       "      <td>0</td>\n",
       "    </tr>\n",
       "    <tr>\n",
       "      <th>11786</th>\n",
       "      <td>11787</td>\n",
       "      <td>200.Common_Yellowthroat/Common_Yellowthroat_00...</td>\n",
       "      <td>1</td>\n",
       "    </tr>\n",
       "    <tr>\n",
       "      <th>11787</th>\n",
       "      <td>11788</td>\n",
       "      <td>200.Common_Yellowthroat/Common_Yellowthroat_00...</td>\n",
       "      <td>0</td>\n",
       "    </tr>\n",
       "  </tbody>\n",
       "</table>\n",
       "<p>11788 rows × 3 columns</p>\n",
       "</div>"
      ],
      "text/plain": [
       "          id                                               path  split\n",
       "0          1  001.Black_footed_Albatross/Black_Footed_Albatr...      0\n",
       "1          2  001.Black_footed_Albatross/Black_Footed_Albatr...      1\n",
       "2          3  001.Black_footed_Albatross/Black_Footed_Albatr...      0\n",
       "3          4  001.Black_footed_Albatross/Black_Footed_Albatr...      1\n",
       "4          5  001.Black_footed_Albatross/Black_Footed_Albatr...      1\n",
       "...      ...                                                ...    ...\n",
       "11783  11784  200.Common_Yellowthroat/Common_Yellowthroat_00...      1\n",
       "11784  11785  200.Common_Yellowthroat/Common_Yellowthroat_00...      0\n",
       "11785  11786  200.Common_Yellowthroat/Common_Yellowthroat_00...      0\n",
       "11786  11787  200.Common_Yellowthroat/Common_Yellowthroat_00...      1\n",
       "11787  11788  200.Common_Yellowthroat/Common_Yellowthroat_00...      0\n",
       "\n",
       "[11788 rows x 3 columns]"
      ]
     },
     "execution_count": 8,
     "metadata": {},
     "output_type": "execute_result"
    }
   ],
   "source": [
    "image_df = pd.merge(image_path_df, image_split_df, how='inner', on='id')\n",
    "image_df"
   ]
  },
  {
   "cell_type": "code",
   "execution_count": 10,
   "metadata": {},
   "outputs": [
    {
     "data": {
      "text/plain": [
       "(176820, 794258)"
      ]
     },
     "execution_count": 10,
     "metadata": {},
     "output_type": "execute_result"
    }
   ],
   "source": [
    "part_locs_lines = read_text(pjoin(CUB_PART_DIR, \"part_locs.txt\"))\n",
    "part_click_locs_lines = read_text(pjoin(CUB_PART_DIR, \"part_click_locs.txt\"))\n",
    "len(part_locs_lines), len(part_click_locs_lines)"
   ]
  },
  {
   "cell_type": "code",
   "execution_count": 15,
   "metadata": {},
   "outputs": [
    {
     "name": "stderr",
     "output_type": "stream",
     "text": [
      "100%|██████████| 11788/11788 [04:00<00:00, 49.00it/s]\n"
     ]
    }
   ],
   "source": [
    "part_locs = list(map(lambda x: tuple(map(float, x.split())), part_locs_lines))\n",
    "\n",
    "cub_part_annotations = []\n",
    "for i, row in tqdm(image_df.iterrows(), total=len(image_df)):\n",
    "    parts_for_img = list(filter(lambda x: int(x[0] - 1) == i, part_locs))\n",
    "    parts_annot = []\n",
    "    for (_, part_id, x, y, visible) in parts_for_img:\n",
    "        parts_annot += [dict(part_id=str(part_id),\n",
    "                            part_name=parts_map[part_id],\n",
    "                            x=x,\n",
    "                            y=y,\n",
    "                            visible=bool(visible))]\n",
    "        \n",
    "    cub_part_annotations += [dict(image_path=row['path'],\n",
    "                                image_id=str(i + 1),\n",
    "                                split=bool(row['split']),\n",
    "                                parts=parts_annot)]"
   ]
  },
  {
   "cell_type": "code",
   "execution_count": 16,
   "metadata": {},
   "outputs": [],
   "source": [
    "entire_annot = list(filter(lambda x: x['split'] == True, cub_part_annotations))\n",
    "test_annot = list(filter(lambda x: x['split'] == False, cub_part_annotations))"
   ]
  },
  {
   "cell_type": "code",
   "execution_count": 17,
   "metadata": {},
   "outputs": [
    {
     "data": {
      "text/plain": [
       "(5994, 5794)"
      ]
     },
     "execution_count": 17,
     "metadata": {},
     "output_type": "execute_result"
    }
   ],
   "source": [
    "len(entire_annot), len(test_annot)"
   ]
  },
  {
   "cell_type": "code",
   "execution_count": 20,
   "metadata": {},
   "outputs": [],
   "source": [
    "from sklearn.model_selection import train_test_split\n",
    "\n",
    "train_annot, val_annot = train_test_split(entire_annot, test_size=0.1, random_state=42, shuffle=True)"
   ]
  },
  {
   "cell_type": "code",
   "execution_count": 21,
   "metadata": {},
   "outputs": [
    {
     "data": {
      "text/plain": [
       "(5394, 600, 5794)"
      ]
     },
     "execution_count": 21,
     "metadata": {},
     "output_type": "execute_result"
    }
   ],
   "source": [
    "len(train_annot), len(val_annot), len(test_annot)"
   ]
  },
  {
   "cell_type": "code",
   "execution_count": 22,
   "metadata": {},
   "outputs": [],
   "source": [
    "save_dir = pjoin(DATA_DIR, \"annotations\")\n",
    "\n",
    "mkdir_p(save_dir)\n",
    "write_json(save_path=pjoin(save_dir, \"data.json\"), json_obj=entire_annot)\n",
    "write_json(save_path=pjoin(save_dir, \"train.json\"), json_obj=train_annot)\n",
    "write_json(save_path=pjoin(save_dir, \"val.json\"), json_obj=val_annot)\n",
    "write_json(save_path=pjoin(save_dir, \"test.json\"), json_obj=test_annot)"
   ]
  }
 ],
 "metadata": {
  "kernelspec": {
   "display_name": "cv",
   "language": "python",
   "name": "python3"
  },
  "language_info": {
   "codemirror_mode": {
    "name": "ipython",
    "version": 3
   },
   "file_extension": ".py",
   "mimetype": "text/x-python",
   "name": "python",
   "nbconvert_exporter": "python",
   "pygments_lexer": "ipython3",
   "version": "3.11.4"
  },
  "orig_nbformat": 4
 },
 "nbformat": 4,
 "nbformat_minor": 2
}
